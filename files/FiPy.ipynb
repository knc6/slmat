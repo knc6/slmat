{
  "metadata": {
    "kernelspec": {
      "name": "python",
      "display_name": "Python (Pyodide)",
      "language": "python"
    },
    "language_info": {
      "codemirror_mode": {
        "name": "python",
        "version": 3
      },
      "file_extension": ".py",
      "mimetype": "text/x-python",
      "name": "python",
      "nbconvert_exporter": "python",
      "pygments_lexer": "ipython3",
      "version": "3.8"
    }
  },
  "nbformat_minor": 4,
  "nbformat": 4,
  "cells": [
    {
      "cell_type": "code",
      "source": "import js\n\n# Access the navigator object to get browser information\nuser_agent = js.navigator.userAgent\nplatform = js.navigator.platform\nlanguage = js.navigator.language\n\n# Print browser information\nprint(\"User Agent:\", user_agent)\nprint()\nprint(\"Platform:\", platform)\nprint()\nprint(\"Language:\", language)\nprint()\n\n\n",
      "metadata": {
        "trusted": true
      },
      "outputs": [
        {
          "name": "stdout",
          "text": "User Agent: Mozilla/5.0 (Windows NT 10.0; Win64; x64) AppleWebKit/537.36 (KHTML, like Gecko) Chrome/128.0.0.0 Safari/537.36\n\nPlatform: Win32\n\nLanguage: en-US\n\n",
          "output_type": "stream"
        }
      ],
      "execution_count": 1
    },
    {
      "cell_type": "code",
      "source": "import piplite\nawait piplite.install(\"fipy\")",
      "metadata": {
        "trusted": true
      },
      "outputs": [],
      "execution_count": 2
    },
    {
      "cell_type": "code",
      "source": "import pylab",
      "metadata": {
        "trusted": true
      },
      "outputs": [],
      "execution_count": 3
    },
    {
      "cell_type": "code",
      "source": "from fipy import Variable, CellVariable, Grid2D, TransientTerm, DiffusionTerm, ImplicitSourceTerm, Viewer, Matplotlib2DGridViewer\nfrom fipy.tools import numerix\ndx = dy = 0.025\nnx = ny = 100\nmesh = Grid2D(dx=dx, dy=dy, nx=nx, ny=ny)",
      "metadata": {
        "trusted": true
      },
      "outputs": [
        {
          "name": "stderr",
          "text": "/lib/python3.12/site-packages/fipy/meshes/abstractMesh.py:113: SyntaxWarning: invalid escape sequence '\\ '\n  \"\"\"\n/lib/python3.12/site-packages/fipy/meshes/abstractMesh.py:124: SyntaxWarning: invalid escape sequence '\\ '\n  \"\"\"\n/lib/python3.12/site-packages/fipy/meshes/abstractMesh.py:142: SyntaxWarning: invalid escape sequence '\\ '\n  \"\"\"\n/lib/python3.12/site-packages/fipy/variables/cellVariable.py:417: SyntaxWarning: invalid escape sequence '\\ '\n  new_string=\"use :attr:`%s`\\ ``.``\\ \"\n/lib/python3.12/site-packages/fipy/variables/meshVariable.py:236: SyntaxWarning: invalid escape sequence '\\m'\n  \"\"\"\n/lib/python3.12/site-packages/fipy/variables/meshVariable.py:257: SyntaxWarning: invalid escape sequence '\\m'\n  \"\"\"\n/lib/python3.12/site-packages/fipy/variables/meshVariable.py:318: SyntaxWarning: invalid escape sequence '\\c'\n  \"\"\"\n/lib/python3.12/site-packages/fipy/variables/meshVariable.py:337: SyntaxWarning: invalid escape sequence '\\c'\n  \"\"\"\n/lib/python3.12/site-packages/fipy/variables/gaussianNoiseVariable.py:110: SyntaxWarning: invalid escape sequence '\\m'\n  \"\"\"\n/lib/python3.12/site-packages/fipy/variables/distanceVariable.py:317: SyntaxWarning: invalid escape sequence '\\p'\n  \"\"\"\n/lib/python3.12/site-packages/fipy/boundaryConditions/boundaryCondition.py:46: SyntaxWarning: invalid escape sequence '\\m'\n  \"\"\"Return the effect of this boundary condition on the equation\n/lib/python3.12/site-packages/fipy/boundaryConditions/fixedValue.py:43: SyntaxWarning: invalid escape sequence '\\m'\n  \"\"\"Set boundary equal to value.\n/lib/python3.12/site-packages/fipy/viewers/matplotlibViewer/__init__.py:13: SyntaxWarning: invalid escape sequence '\\s'\n  \"\"\"Generic function for creating a `MatplotlibViewer`.\n",
          "output_type": "stream"
        }
      ],
      "execution_count": 4
    },
    {
      "cell_type": "code",
      "source": "",
      "metadata": {
        "trusted": true
      },
      "outputs": [],
      "execution_count": null
    }
  ]
}